{
 "cells": [
  {
   "cell_type": "markdown",
   "metadata": {},
   "source": [
    "### Demo: save and read sentences "
   ]
  },
  {
   "cell_type": "code",
   "execution_count": 58,
   "metadata": {},
   "outputs": [
    {
     "name": "stdout",
     "output_type": "stream",
     "text": [
      "['this', 'is', 'the', 'first', 'sentence', 'for', 'word2vec']\n",
      "['this', 'is', 'the', 'second', 'sentence']\n",
      "['yet', 'another', 'sentence']\n",
      "['one', 'more', 'sentence']\n",
      "['and', 'the', 'final', 'sentence']\n"
     ]
    }
   ],
   "source": [
    "sentences = [['this', 'is', 'the', 'first', 'sentence', 'for', 'word2vec'],\n",
    "            ['this', 'is', 'the', 'second', 'sentence'],\n",
    "            ['yet', 'another', 'sentence'],\n",
    "            ['one', 'more', 'sentence'],\n",
    "            ['and', 'the', 'final', 'sentence']]\n",
    "\n",
    "with open('listfile.txt', 'w') as fh:\n",
    "    for sentence in sentences:\n",
    "        fh.writelines(\"{:s}\\n\".format(\" \".join([word for word in sentence])))\n",
    "\n",
    "def read_sentences(filename = \"listfile.txt\"):\n",
    "    with open(filename, 'r') as fh:\n",
    "        s = fh.readline()\n",
    "        while s != \"\":\n",
    "            yield s.strip().split(\" \")\n",
    "            s = fh.readline()\n",
    "    \n",
    "for s in read_sentences():\n",
    "    print(s)"
   ]
  },
  {
   "cell_type": "markdown",
   "metadata": {},
   "source": [
    "### A memory-friendly sentence iterator"
   ]
  },
  {
   "cell_type": "code",
   "execution_count": 59,
   "metadata": {},
   "outputs": [],
   "source": [
    "import os\n",
    "class MySentences(object):\n",
    "    def __init__(self, fnames, dirname = \"./\"):\n",
    "        self.fnames = fnames\n",
    "        self.dirname = dirname\n",
    "\n",
    "    def __iter__(self):\n",
    "        for fname in self.fnames:\n",
    "            with open(os.path.join(self.dirname, fname), 'r') as fh:\n",
    "                s = fh.readline()\n",
    "                while s != \"\":\n",
    "                    yield s.strip().split(\" \")\n",
    "                    s = fh.readline()\n",
    "\n",
    "sentences = MySentences([\"listfile.txt\"]) "
   ]
  },
  {
   "cell_type": "code",
   "execution_count": 73,
   "metadata": {},
   "outputs": [
    {
     "name": "stdout",
     "output_type": "stream",
     "text": [
      "Word2Vec(vocab=14, size=100, alpha=0.025)\n",
      "['this', 'is', 'the', 'first', 'sentence', 'for', 'word2vec', 'second', 'yet', 'another', 'one', 'more', 'and', 'final']\n"
     ]
    }
   ],
   "source": [
    "from gensim.models import Word2Vec\n",
    "\n",
    "\n",
    "'''\n",
    "size: (default 100) The number of dimensions of the embedding\n",
    "window: (default 5) The maximum distance between a target word and words around the target word.\n",
    "min_count: (default 5) The minimum count of words to consider when training the model; words with an occurrence less than this count will be ignored.\n",
    "workers: (default 3) The number of threads to use while training. You can increase workers to match the number of cores (e.g. 8)in most modern computers.\n",
    "sg: The training algorithm, either CBOW (0) or skip gram (1).\n",
    "'''\n",
    "# train model\n",
    "model = Word2Vec(sentences, size=100, window=50, min_count=1, workers=4, sg = 1, iter=10)\n",
    "# summarize the loaded model\n",
    "print(model)\n",
    "\n",
    "# summarize vocabulary\n",
    "words = list(model.wv.vocab)\n",
    "print(words)\n",
    "\n",
    "# access vector for one word\n",
    "# print(model.wv['sentence'])\n",
    "\n",
    "# save model\n",
    "model.save('model.bin')\n",
    "# load model\n",
    "new_model = Word2Vec.load('model.bin')\n",
    "\n",
    "# preserve only gensim.models.KeyedVectors instance to save RAM\n",
    "word_vectors = model.wv\n",
    "del model"
   ]
  },
  {
   "cell_type": "markdown",
   "metadata": {},
   "source": [
    "### Play with word embeddings"
   ]
  },
  {
   "cell_type": "code",
   "execution_count": 74,
   "metadata": {},
   "outputs": [
    {
     "data": {
      "text/plain": [
       "0.05933652230346868"
      ]
     },
     "execution_count": 74,
     "metadata": {},
     "output_type": "execute_result"
    }
   ],
   "source": [
    "# find words that are close to positive words, far from negative words\n",
    "word_vectors.most_similar(positive=['for', 'one'], negative=['and'], topn = 3)\n",
    "\n",
    "# \n",
    "word_vectors.similarity('second', 'final')"
   ]
  },
  {
   "cell_type": "markdown",
   "metadata": {},
   "source": [
    "### Visualize word Embeddings"
   ]
  },
  {
   "cell_type": "code",
   "execution_count": 70,
   "metadata": {},
   "outputs": [
    {
     "data": {
      "image/png": "[encoded data removed]",
      "text/plain": [
       "<matplotlib.figure.Figure at 0x1a19f93208>"
      ]
     },
     "metadata": {},
     "output_type": "display_data"
    }
   ],
   "source": [
    "from sklearn.decomposition import PCA\n",
    "import matplotlib.pyplot as plt\n",
    "# define training data\n",
    "sentences = [['this', 'is', 'the', 'first', 'sentence', 'for', 'word2vec'],\n",
    "            ['this', 'is', 'the', 'second', 'sentence'],\n",
    "            ['yet', 'another', 'sentence'],\n",
    "            ['one', 'more', 'sentence'],\n",
    "            ['and', 'the', 'final', 'sentence']]\n",
    "\n",
    "# get all word vectors\n",
    "X = word_vectors[word_vectors.vocab]\n",
    "# fit a 2d PCA model to the vectors\n",
    "pca = PCA(n_components=2)\n",
    "result = pca.fit_transform(X)\n",
    "\n",
    "# create a scatter plot of the projection\n",
    "plt.scatter(result[:, 0], result[:, 1])\n",
    "words = list(word_vectors.vocab)\n",
    "for i, word in enumerate(words):\n",
    "    plt.annotate(word, xy=(result[i, 0], result[i, 1]))\n",
    "plt.show()"
   ]
  },
  {
   "cell_type": "code",
   "execution_count": null,
   "metadata": {},
   "outputs": [],
   "source": []
  }
 ],
 "metadata": {
  "kernelspec": {
   "display_name": "Python 3",
   "language": "python",
   "name": "python3"
  },
  "language_info": {
   "codemirror_mode": {
    "name": "ipython",
    "version": 3
   },
   "file_extension": ".py",
   "mimetype": "text/x-python",
   "name": "python",
   "nbconvert_exporter": "python",
   "pygments_lexer": "ipython3",
   "version": "3.6.4"
  }
 },
 "nbformat": 4,
 "nbformat_minor": 2
}
