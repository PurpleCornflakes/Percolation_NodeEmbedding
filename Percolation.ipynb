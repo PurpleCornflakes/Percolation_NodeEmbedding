{
 "cells": [
  {
   "cell_type": "markdown",
   "metadata": {},
   "source": [
    "# Count $<i,j>$ pairs as inputs to learn Node Embedding"
   ]
  },
  {
   "cell_type": "code",
   "execution_count": 49,
   "metadata": {},
   "outputs": [],
   "source": [
    "%matplotlib inline\n",
    "import matplotlib.pyplot as plt\n",
    "import networkx as nx\n",
    "import numpy as np\n",
    "from scipy.io import loadmat\n",
    "from random import choices\n",
    "import copy\n",
    "from scipy.sparse import issparse\n",
    "from statistics import mean"
   ]
  },
  {
   "cell_type": "markdown",
   "metadata": {},
   "source": [
    "## Find percolation threshold. Avarage size of largest cluster $<s_{max}>$ v.s. $\\beta$"
   ]
  },
  {
   "cell_type": "markdown",
   "metadata": {},
   "source": [
    "### 1. Transform edgelist to Graph"
   ]
  },
  {
   "cell_type": "code",
   "execution_count": 7,
   "metadata": {},
   "outputs": [],
   "source": [
    "def load_matfile(file_, variable_name=\"network\", unDirected=True, unWeighted = True):\n",
    "    mat_variables = loadmat(file_)\n",
    "    mat_matrix = mat_variables[variable_name]\n",
    "    if issparse(mat_matrix):\n",
    "        if unDirected:\n",
    "            G = nx.Graph()\n",
    "        else:\n",
    "            G = nx.DiGraph()\n",
    "            \n",
    "        '''\n",
    "        from_nodes: cx.row\n",
    "        to_nodes: cx.col\n",
    "        link weights: cx.data\n",
    "        '''\n",
    "        cx = mat_matrix.tocoo()\n",
    "        if unWeighted:\n",
    "            edge_list = np.array([cx.row, cx.col]).T\n",
    "            G.add_edges_from(edge_list)\n",
    "        else:\n",
    "            edge_list = np.array([cx.row, cx.col, cx.data]).T\n",
    "            G.add_weighted_edges_from(edge_list)\n",
    "\n",
    "            \n",
    "    return G"
   ]
  },
  {
   "cell_type": "code",
   "execution_count": 9,
   "metadata": {},
   "outputs": [
    {
     "name": "stdout",
     "output_type": "stream",
     "text": [
      "# of nodes =  10312\n",
      "# of edges =  333983\n"
     ]
    }
   ],
   "source": [
    "'''\n",
    "\"blogcatalog.mat\" is a undirected, unweighted graph\n",
    "# of nodes = 10312\n",
    "# of edges = 333983\n",
    "'''\n",
    "# G = graph.load_matfile(args.input, variable_name=args.matfile_variable_name, undirected=args.undirected)\n",
    "G_blogcatalog = load_matfile(file_ = \"blogcatalog.mat\")\n",
    "print(\"# of nodes = \",G_blogcatalog.number_of_nodes())\n",
    "print(\"# of edges = \",G_blogcatalog.number_of_edges())"
   ]
  },
  {
   "cell_type": "code",
   "execution_count": 36,
   "metadata": {},
   "outputs": [],
   "source": [
    "def percolate(G, beta = 0.005, unWeighted = True):\n",
    "    edges_percolated = []\n",
    "    if unWeighted:\n",
    "        G_percolated = nx.Graph()\n",
    "        G_percolated.add_nodes_from(list(G.nodes))\n",
    "        numPercolatedEdges = int(beta*G.number_of_edges())\n",
    "        edges_percolated = choices(list(G.edges), k=numPercolatedEdges)\n",
    "        assert(len(edges_percolated) ==  numPercolatedEdges)\n",
    "        G_percolated.add_edges_from(edges_percolated)\n",
    "    return G_percolated"
   ]
  },
  {
   "cell_type": "code",
   "execution_count": 50,
   "metadata": {},
   "outputs": [],
   "source": [
    "betas = np.linspace(0,0.5,10)\n",
    "average_sizes_Gc = []\n",
    "numIter = 100\n",
    "for beta in betas:\n",
    "    sizes_Gc = []\n",
    "    for i in range(numIter):\n",
    "        G_percolated = percolate(G_blogcatalog)\n",
    "        # graphs = list(nx.connected_component_subgraphs(G))\n",
    "        # largest percolated cluster\n",
    "        Gc = max(nx.connected_component_subgraphs(G_percolated), key=len)\n",
    "        sizes_Gc.append(Gc.number_of_edges())\n",
    "    average_sizes_Gc.append(mean(sizes_Gc))"
   ]
  },
  {
   "cell_type": "code",
   "execution_count": 51,
   "metadata": {},
   "outputs": [
    {
     "data": {
      "text/plain": [
       "[<matplotlib.lines.Line2D at 0x18299c9630>]"
      ]
     },
     "execution_count": 51,
     "metadata": {},
     "output_type": "execute_result"
    },
    {
     "data": {
      "image/png": "[encoded data removed]",
      "text/plain": [
       "<matplotlib.figure.Figure at 0x1826e97748>"
      ]
     },
     "metadata": {},
     "output_type": "display_data"
    }
   ],
   "source": [
    "plt.plot(betas,sizes_Gc)"
   ]
  },
  {
   "cell_type": "code",
   "execution_count": null,
   "metadata": {},
   "outputs": [],
   "source": []
  }
 ],
 "metadata": {
  "kernelspec": {
   "display_name": "Python 3",
   "language": "python",
   "name": "python3"
  },
  "language_info": {
   "codemirror_mode": {
    "name": "ipython",
    "version": 3
   },
   "file_extension": ".py",
   "mimetype": "text/x-python",
   "name": "python",
   "nbconvert_exporter": "python",
   "pygments_lexer": "ipython3",
   "version": "3.6.4"
  }
 },
 "nbformat": 4,
 "nbformat_minor": 2
}
